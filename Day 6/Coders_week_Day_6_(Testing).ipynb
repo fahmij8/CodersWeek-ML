{
  "nbformat": 4,
  "nbformat_minor": 0,
  "metadata": {
    "colab": {
      "name": "Coders week - Day 6 (Testing).ipynb",
      "provenance": []
    },
    "kernelspec": {
      "name": "python3",
      "display_name": "Python 3"
    }
  },
  "cells": [
    {
      "cell_type": "code",
      "metadata": {
        "id": "88t3539TTN-d",
        "colab_type": "code",
        "colab": {
          "base_uri": "https://localhost:8080/",
          "height": 51
        },
        "outputId": "b8053182-9415-4a42-fd66-6de3debf3fb4"
      },
      "source": [
        "import requests, json\n",
        "\n",
        "url = 'http://5e7ca1bc07c4.ngrok.io/predict'\n",
        "req = requests.post(url, json={'Age':20, 'Salary':150000})\n",
        "\n",
        "print(req.status_code)\n",
        "print(req.text)"
      ],
      "execution_count": 1,
      "outputs": [
        {
          "output_type": "stream",
          "text": [
            "200\n",
            "He/She's gonna purchase it!\n"
          ],
          "name": "stdout"
        }
      ]
    }
  ]
}